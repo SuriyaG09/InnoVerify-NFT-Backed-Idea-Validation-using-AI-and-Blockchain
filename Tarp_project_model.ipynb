{
  "cells": [
    {
      "cell_type": "markdown",
      "metadata": {
        "id": "MH9dToLhHOJs"
      },
      "source": [
        "### Required libraries"
      ]
    },
    {
      "cell_type": "code",
      "execution_count": 54,
      "metadata": {
        "colab": {
          "base_uri": "https://localhost:8080/"
        },
        "id": "cJdzKLnxV3EC",
        "outputId": "a2f5d1e0-9055-4e8e-ff89-0136c3d63eec"
      },
      "outputs": [
        {
          "output_type": "stream",
          "name": "stdout",
          "text": [
            "Drive already mounted at /content/drive; to attempt to forcibly remount, call drive.mount(\"/content/drive\", force_remount=True).\n"
          ]
        }
      ],
      "source": [
        "from google.colab import drive\n",
        "drive.mount('/content/drive')"
      ]
    },
    {
      "cell_type": "code",
      "execution_count": 55,
      "metadata": {
        "colab": {
          "base_uri": "https://localhost:8080/"
        },
        "id": "EbD2v1EOdwCk",
        "outputId": "28a2c2ab-f91b-4b57-f20f-670ab5fb7852"
      },
      "outputs": [
        {
          "output_type": "stream",
          "name": "stderr",
          "text": [
            "[nltk_data] Downloading package stopwords to /root/nltk_data...\n",
            "[nltk_data]   Package stopwords is already up-to-date!\n",
            "[nltk_data] Downloading package punkt to /root/nltk_data...\n",
            "[nltk_data]   Package punkt is already up-to-date!\n"
          ]
        },
        {
          "output_type": "execute_result",
          "data": {
            "text/plain": [
              "True"
            ]
          },
          "metadata": {},
          "execution_count": 55
        }
      ],
      "source": [
        "import pandas as pd\n",
        "import numpy as np\n",
        "import seaborn as sns\n",
        "import json\n",
        "import matplotlib.pyplot as plt\n",
        "\n",
        "from wordcloud import WordCloud\n",
        "import matplotlib.pyplot as plt\n",
        "from nltk.corpus import stopwords as sw\n",
        "import nltk\n",
        "from bs4 import BeautifulSoup\n",
        "\n",
        "from collections import Counter\n",
        "import matplotlib.pyplot as plt\n",
        "import nltk\n",
        "from nltk.tokenize import word_tokenize\n",
        "import string\n",
        "\n",
        "\n",
        "nltk.download('stopwords')\n",
        "nltk.download('punkt')"
      ]
    },
    {
      "cell_type": "code",
      "execution_count": 56,
      "metadata": {
        "id": "8Gs2SMeSeYTe"
      },
      "outputs": [],
      "source": [
        "import os\n",
        "os.environ['KAGGLE_CONFIG_DIR']='/content/drive/MyDrive/AI_dataset/'"
      ]
    },
    {
      "cell_type": "markdown",
      "metadata": {
        "id": "1gRlUTtKHWO9"
      },
      "source": [
        "### 1. Importing dataset from kaggle"
      ]
    },
    {
      "cell_type": "code",
      "execution_count": 57,
      "metadata": {
        "colab": {
          "base_uri": "https://localhost:8080/"
        },
        "id": "WKEidOPBeXTk",
        "outputId": "e968d9b9-3c0e-4b16-d877-f629b0f7e7cd"
      },
      "outputs": [
        {
          "output_type": "stream",
          "name": "stdout",
          "text": [
            "arxiv.zip: Skipping, found more recently modified local copy (use --force to force download)\n"
          ]
        }
      ],
      "source": [
        "!kaggle datasets download Cornell-University/arxiv"
      ]
    },
    {
      "cell_type": "code",
      "execution_count": 58,
      "metadata": {
        "colab": {
          "base_uri": "https://localhost:8080/"
        },
        "id": "U-Ym2TTheRok",
        "outputId": "977ad561-2854-4c2f-8497-169e1d850295"
      },
      "outputs": [
        {
          "output_type": "stream",
          "name": "stdout",
          "text": [
            "Archive:  /content/arxiv.zip\n",
            "replace arxiv-metadata-oai-snapshot.json? [y]es, [n]o, [A]ll, [N]one, [r]ename: "
          ]
        }
      ],
      "source": [
        "!unzip '/content/arxiv.zip'"
      ]
    },
    {
      "cell_type": "code",
      "execution_count": 59,
      "metadata": {
        "id": "CGRMBgSqYLdu"
      },
      "outputs": [],
      "source": [
        "DATASET_PATH = \"/content/arxiv-metadata-oai-snapshot.json\"\n",
        "\n",
        "# The number of papers on which the models will be trained and that also will be analyzed.\n",
        "# There are over 2 million papers in this dataset, I'll select a subset.\n",
        "NUM_PAPERS = 100000"
      ]
    },
    {
      "cell_type": "markdown",
      "metadata": {
        "id": "rXRjDZzFHcFO"
      },
      "source": [
        "#### selecting 2 lakh rows for analysis"
      ]
    },
    {
      "cell_type": "code",
      "execution_count": 60,
      "metadata": {
        "colab": {
          "base_uri": "https://localhost:8080/"
        },
        "id": "UGp_-3pAYdXM",
        "outputId": "85b97f4e-2d4c-4c2c-a341-c880ea6d1d3f"
      },
      "outputs": [
        {
          "output_type": "stream",
          "name": "stdout",
          "text": [
            "<class 'generator'>\n"
          ]
        }
      ],
      "source": [
        "def get_dataset_generator(path: str):\n",
        "    with open(path, \"r\") as fp:\n",
        "        for line in fp:\n",
        "            row = json.loads(line)\n",
        "            yield row\n",
        "\n",
        "\n",
        "dataset_generator = get_dataset_generator(\n",
        "    path=DATASET_PATH\n",
        ")\n",
        "print(type(dataset_generator))"
      ]
    },
    {
      "cell_type": "code",
      "execution_count": 65,
      "metadata": {
        "id": "vWCFVbH3YbmV"
      },
      "outputs": [],
      "source": [
        "import pandas as pd\n",
        "\n",
        "def extract_abstract_and_year(generator):\n",
        "    titles = []\n",
        "    abstracts = []\n",
        "    years = []\n",
        "\n",
        "    for row in generator:\n",
        "        if len(abstracts) == NUM_PAPERS:\n",
        "            break\n",
        "\n",
        "        titles.append(row[\"title\"])\n",
        "        abstracts.append(row[\"abstract\"])\n",
        "        # Extract the year from the \"update_date\" and append it\n",
        "        years.append(pd.to_datetime(row[\"update_date\"]).year)\n",
        "\n",
        "    return pd.DataFrame({\"title\": titles, \"abstract\": abstracts, \"year\": years})\n"
      ]
    },
    {
      "cell_type": "code",
      "execution_count": 66,
      "metadata": {
        "id": "xQ0ABa-MlTSP"
      },
      "outputs": [],
      "source": [
        "df = extract_abstract_and_year(dataset_generator)"
      ]
    },
    {
      "cell_type": "code",
      "execution_count": 67,
      "metadata": {
        "colab": {
          "base_uri": "https://localhost:8080/",
          "height": 597
        },
        "id": "KbT9w68IpDr7",
        "outputId": "ab27941d-cd3e-493b-af17-279fd96d25df"
      },
      "outputs": [
        {
          "output_type": "execute_result",
          "data": {
            "text/plain": [
              "                                                    title  \\\n",
              "0       Supernovae Powered by Collapsar Accretion in G...   \n",
              "1       Itinerant-Electron Magnetism in the Heisenberg...   \n",
              "2       Convergent finite difference solvers for visco...   \n",
              "3          Non-equilibrium steady state of sparse systems   \n",
              "4                    Retransmission Steganography Applied   \n",
              "...                                                   ...   \n",
              "199995  Thermal spin fluctuations in spinor Bose-Einst...   \n",
              "199996  Commuting Local Hamiltonians on Expanders, Loc...   \n",
              "199997  Dirichlet-Neumann inverse spectral problem for...   \n",
              "199998  Finite groups and Lie rings with a metacyclic ...   \n",
              "199999  Fractures in complex fluids: the case of trans...   \n",
              "\n",
              "                                                 abstract  year  \n",
              "0         The association of long-duration gamma-ray b...  2015  \n",
              "1         The Hubbard model in the Heisenberg limit is...  2010  \n",
              "2         The elliptic Monge-Amp\\`ere equation is a fu...  2011  \n",
              "3         A resistor-network picture of transitions is...  2011  \n",
              "4         This paper presents experimental results of ...  2010  \n",
              "...                                                   ...   ...  \n",
              "199995    We study the thermal activation of spin fluc...  2013  \n",
              "199996    Understanding commuting local Hamiltonians (...  2013  \n",
              "199997    We solve two inverse spectral problems for s...  2016  \n",
              "199998    Suppose that a finite group $G$ admits a Fro...  2013  \n",
              "199999    We present a comprehensive review of the cur...  2013  \n",
              "\n",
              "[200000 rows x 3 columns]"
            ],
            "text/html": [
              "\n",
              "  <div id=\"df-b61e9e3c-7a36-4573-8314-c5e9b5560ab9\" class=\"colab-df-container\">\n",
              "    <div>\n",
              "<style scoped>\n",
              "    .dataframe tbody tr th:only-of-type {\n",
              "        vertical-align: middle;\n",
              "    }\n",
              "\n",
              "    .dataframe tbody tr th {\n",
              "        vertical-align: top;\n",
              "    }\n",
              "\n",
              "    .dataframe thead th {\n",
              "        text-align: right;\n",
              "    }\n",
              "</style>\n",
              "<table border=\"1\" class=\"dataframe\">\n",
              "  <thead>\n",
              "    <tr style=\"text-align: right;\">\n",
              "      <th></th>\n",
              "      <th>title</th>\n",
              "      <th>abstract</th>\n",
              "      <th>year</th>\n",
              "    </tr>\n",
              "  </thead>\n",
              "  <tbody>\n",
              "    <tr>\n",
              "      <th>0</th>\n",
              "      <td>Supernovae Powered by Collapsar Accretion in G...</td>\n",
              "      <td>The association of long-duration gamma-ray b...</td>\n",
              "      <td>2015</td>\n",
              "    </tr>\n",
              "    <tr>\n",
              "      <th>1</th>\n",
              "      <td>Itinerant-Electron Magnetism in the Heisenberg...</td>\n",
              "      <td>The Hubbard model in the Heisenberg limit is...</td>\n",
              "      <td>2010</td>\n",
              "    </tr>\n",
              "    <tr>\n",
              "      <th>2</th>\n",
              "      <td>Convergent finite difference solvers for visco...</td>\n",
              "      <td>The elliptic Monge-Amp\\`ere equation is a fu...</td>\n",
              "      <td>2011</td>\n",
              "    </tr>\n",
              "    <tr>\n",
              "      <th>3</th>\n",
              "      <td>Non-equilibrium steady state of sparse systems</td>\n",
              "      <td>A resistor-network picture of transitions is...</td>\n",
              "      <td>2011</td>\n",
              "    </tr>\n",
              "    <tr>\n",
              "      <th>4</th>\n",
              "      <td>Retransmission Steganography Applied</td>\n",
              "      <td>This paper presents experimental results of ...</td>\n",
              "      <td>2010</td>\n",
              "    </tr>\n",
              "    <tr>\n",
              "      <th>...</th>\n",
              "      <td>...</td>\n",
              "      <td>...</td>\n",
              "      <td>...</td>\n",
              "    </tr>\n",
              "    <tr>\n",
              "      <th>199995</th>\n",
              "      <td>Thermal spin fluctuations in spinor Bose-Einst...</td>\n",
              "      <td>We study the thermal activation of spin fluc...</td>\n",
              "      <td>2013</td>\n",
              "    </tr>\n",
              "    <tr>\n",
              "      <th>199996</th>\n",
              "      <td>Commuting Local Hamiltonians on Expanders, Loc...</td>\n",
              "      <td>Understanding commuting local Hamiltonians (...</td>\n",
              "      <td>2013</td>\n",
              "    </tr>\n",
              "    <tr>\n",
              "      <th>199997</th>\n",
              "      <td>Dirichlet-Neumann inverse spectral problem for...</td>\n",
              "      <td>We solve two inverse spectral problems for s...</td>\n",
              "      <td>2016</td>\n",
              "    </tr>\n",
              "    <tr>\n",
              "      <th>199998</th>\n",
              "      <td>Finite groups and Lie rings with a metacyclic ...</td>\n",
              "      <td>Suppose that a finite group $G$ admits a Fro...</td>\n",
              "      <td>2013</td>\n",
              "    </tr>\n",
              "    <tr>\n",
              "      <th>199999</th>\n",
              "      <td>Fractures in complex fluids: the case of trans...</td>\n",
              "      <td>We present a comprehensive review of the cur...</td>\n",
              "      <td>2013</td>\n",
              "    </tr>\n",
              "  </tbody>\n",
              "</table>\n",
              "<p>200000 rows × 3 columns</p>\n",
              "</div>\n",
              "    <div class=\"colab-df-buttons\">\n",
              "\n",
              "  <div class=\"colab-df-container\">\n",
              "    <button class=\"colab-df-convert\" onclick=\"convertToInteractive('df-b61e9e3c-7a36-4573-8314-c5e9b5560ab9')\"\n",
              "            title=\"Convert this dataframe to an interactive table.\"\n",
              "            style=\"display:none;\">\n",
              "\n",
              "  <svg xmlns=\"http://www.w3.org/2000/svg\" height=\"24px\" viewBox=\"0 -960 960 960\">\n",
              "    <path d=\"M120-120v-720h720v720H120Zm60-500h600v-160H180v160Zm220 220h160v-160H400v160Zm0 220h160v-160H400v160ZM180-400h160v-160H180v160Zm440 0h160v-160H620v160ZM180-180h160v-160H180v160Zm440 0h160v-160H620v160Z\"/>\n",
              "  </svg>\n",
              "    </button>\n",
              "\n",
              "  <style>\n",
              "    .colab-df-container {\n",
              "      display:flex;\n",
              "      gap: 12px;\n",
              "    }\n",
              "\n",
              "    .colab-df-convert {\n",
              "      background-color: #E8F0FE;\n",
              "      border: none;\n",
              "      border-radius: 50%;\n",
              "      cursor: pointer;\n",
              "      display: none;\n",
              "      fill: #1967D2;\n",
              "      height: 32px;\n",
              "      padding: 0 0 0 0;\n",
              "      width: 32px;\n",
              "    }\n",
              "\n",
              "    .colab-df-convert:hover {\n",
              "      background-color: #E2EBFA;\n",
              "      box-shadow: 0px 1px 2px rgba(60, 64, 67, 0.3), 0px 1px 3px 1px rgba(60, 64, 67, 0.15);\n",
              "      fill: #174EA6;\n",
              "    }\n",
              "\n",
              "    .colab-df-buttons div {\n",
              "      margin-bottom: 4px;\n",
              "    }\n",
              "\n",
              "    [theme=dark] .colab-df-convert {\n",
              "      background-color: #3B4455;\n",
              "      fill: #D2E3FC;\n",
              "    }\n",
              "\n",
              "    [theme=dark] .colab-df-convert:hover {\n",
              "      background-color: #434B5C;\n",
              "      box-shadow: 0px 1px 3px 1px rgba(0, 0, 0, 0.15);\n",
              "      filter: drop-shadow(0px 1px 2px rgba(0, 0, 0, 0.3));\n",
              "      fill: #FFFFFF;\n",
              "    }\n",
              "  </style>\n",
              "\n",
              "    <script>\n",
              "      const buttonEl =\n",
              "        document.querySelector('#df-b61e9e3c-7a36-4573-8314-c5e9b5560ab9 button.colab-df-convert');\n",
              "      buttonEl.style.display =\n",
              "        google.colab.kernel.accessAllowed ? 'block' : 'none';\n",
              "\n",
              "      async function convertToInteractive(key) {\n",
              "        const element = document.querySelector('#df-b61e9e3c-7a36-4573-8314-c5e9b5560ab9');\n",
              "        const dataTable =\n",
              "          await google.colab.kernel.invokeFunction('convertToInteractive',\n",
              "                                                    [key], {});\n",
              "        if (!dataTable) return;\n",
              "\n",
              "        const docLinkHtml = 'Like what you see? Visit the ' +\n",
              "          '<a target=\"_blank\" href=https://colab.research.google.com/notebooks/data_table.ipynb>data table notebook</a>'\n",
              "          + ' to learn more about interactive tables.';\n",
              "        element.innerHTML = '';\n",
              "        dataTable['output_type'] = 'display_data';\n",
              "        await google.colab.output.renderOutput(dataTable, element);\n",
              "        const docLink = document.createElement('div');\n",
              "        docLink.innerHTML = docLinkHtml;\n",
              "        element.appendChild(docLink);\n",
              "      }\n",
              "    </script>\n",
              "  </div>\n",
              "\n",
              "\n",
              "<div id=\"df-826ad30f-17d3-45cd-b4fd-69294fd5fb8e\">\n",
              "  <button class=\"colab-df-quickchart\" onclick=\"quickchart('df-826ad30f-17d3-45cd-b4fd-69294fd5fb8e')\"\n",
              "            title=\"Suggest charts.\"\n",
              "            style=\"display:none;\">\n",
              "\n",
              "<svg xmlns=\"http://www.w3.org/2000/svg\" height=\"24px\"viewBox=\"0 0 24 24\"\n",
              "     width=\"24px\">\n",
              "    <g>\n",
              "        <path d=\"M19 3H5c-1.1 0-2 .9-2 2v14c0 1.1.9 2 2 2h14c1.1 0 2-.9 2-2V5c0-1.1-.9-2-2-2zM9 17H7v-7h2v7zm4 0h-2V7h2v10zm4 0h-2v-4h2v4z\"/>\n",
              "    </g>\n",
              "</svg>\n",
              "  </button>\n",
              "\n",
              "<style>\n",
              "  .colab-df-quickchart {\n",
              "      --bg-color: #E8F0FE;\n",
              "      --fill-color: #1967D2;\n",
              "      --hover-bg-color: #E2EBFA;\n",
              "      --hover-fill-color: #174EA6;\n",
              "      --disabled-fill-color: #AAA;\n",
              "      --disabled-bg-color: #DDD;\n",
              "  }\n",
              "\n",
              "  [theme=dark] .colab-df-quickchart {\n",
              "      --bg-color: #3B4455;\n",
              "      --fill-color: #D2E3FC;\n",
              "      --hover-bg-color: #434B5C;\n",
              "      --hover-fill-color: #FFFFFF;\n",
              "      --disabled-bg-color: #3B4455;\n",
              "      --disabled-fill-color: #666;\n",
              "  }\n",
              "\n",
              "  .colab-df-quickchart {\n",
              "    background-color: var(--bg-color);\n",
              "    border: none;\n",
              "    border-radius: 50%;\n",
              "    cursor: pointer;\n",
              "    display: none;\n",
              "    fill: var(--fill-color);\n",
              "    height: 32px;\n",
              "    padding: 0;\n",
              "    width: 32px;\n",
              "  }\n",
              "\n",
              "  .colab-df-quickchart:hover {\n",
              "    background-color: var(--hover-bg-color);\n",
              "    box-shadow: 0 1px 2px rgba(60, 64, 67, 0.3), 0 1px 3px 1px rgba(60, 64, 67, 0.15);\n",
              "    fill: var(--button-hover-fill-color);\n",
              "  }\n",
              "\n",
              "  .colab-df-quickchart-complete:disabled,\n",
              "  .colab-df-quickchart-complete:disabled:hover {\n",
              "    background-color: var(--disabled-bg-color);\n",
              "    fill: var(--disabled-fill-color);\n",
              "    box-shadow: none;\n",
              "  }\n",
              "\n",
              "  .colab-df-spinner {\n",
              "    border: 2px solid var(--fill-color);\n",
              "    border-color: transparent;\n",
              "    border-bottom-color: var(--fill-color);\n",
              "    animation:\n",
              "      spin 1s steps(1) infinite;\n",
              "  }\n",
              "\n",
              "  @keyframes spin {\n",
              "    0% {\n",
              "      border-color: transparent;\n",
              "      border-bottom-color: var(--fill-color);\n",
              "      border-left-color: var(--fill-color);\n",
              "    }\n",
              "    20% {\n",
              "      border-color: transparent;\n",
              "      border-left-color: var(--fill-color);\n",
              "      border-top-color: var(--fill-color);\n",
              "    }\n",
              "    30% {\n",
              "      border-color: transparent;\n",
              "      border-left-color: var(--fill-color);\n",
              "      border-top-color: var(--fill-color);\n",
              "      border-right-color: var(--fill-color);\n",
              "    }\n",
              "    40% {\n",
              "      border-color: transparent;\n",
              "      border-right-color: var(--fill-color);\n",
              "      border-top-color: var(--fill-color);\n",
              "    }\n",
              "    60% {\n",
              "      border-color: transparent;\n",
              "      border-right-color: var(--fill-color);\n",
              "    }\n",
              "    80% {\n",
              "      border-color: transparent;\n",
              "      border-right-color: var(--fill-color);\n",
              "      border-bottom-color: var(--fill-color);\n",
              "    }\n",
              "    90% {\n",
              "      border-color: transparent;\n",
              "      border-bottom-color: var(--fill-color);\n",
              "    }\n",
              "  }\n",
              "</style>\n",
              "\n",
              "  <script>\n",
              "    async function quickchart(key) {\n",
              "      const quickchartButtonEl =\n",
              "        document.querySelector('#' + key + ' button');\n",
              "      quickchartButtonEl.disabled = true;  // To prevent multiple clicks.\n",
              "      quickchartButtonEl.classList.add('colab-df-spinner');\n",
              "      try {\n",
              "        const charts = await google.colab.kernel.invokeFunction(\n",
              "            'suggestCharts', [key], {});\n",
              "      } catch (error) {\n",
              "        console.error('Error during call to suggestCharts:', error);\n",
              "      }\n",
              "      quickchartButtonEl.classList.remove('colab-df-spinner');\n",
              "      quickchartButtonEl.classList.add('colab-df-quickchart-complete');\n",
              "    }\n",
              "    (() => {\n",
              "      let quickchartButtonEl =\n",
              "        document.querySelector('#df-826ad30f-17d3-45cd-b4fd-69294fd5fb8e button');\n",
              "      quickchartButtonEl.style.display =\n",
              "        google.colab.kernel.accessAllowed ? 'block' : 'none';\n",
              "    })();\n",
              "  </script>\n",
              "</div>\n",
              "    </div>\n",
              "  </div>\n"
            ]
          },
          "metadata": {},
          "execution_count": 67
        }
      ],
      "source": [
        "df"
      ]
    },
    {
      "cell_type": "code",
      "execution_count": 68,
      "metadata": {
        "colab": {
          "base_uri": "https://localhost:8080/",
          "height": 429
        },
        "id": "9AOGdmaSl_Wx",
        "outputId": "dd703872-b472-4799-ebfb-70bda73dfdd4"
      },
      "outputs": [
        {
          "output_type": "display_data",
          "data": {
            "text/plain": [
              "<Figure size 1000x600 with 1 Axes>"
            ],
            "image/png": "[encoded data removed]"
          },
          "metadata": {}
        }
      ],
      "source": [
        "import pandas as pd\n",
        "import matplotlib.pyplot as plt\n",
        "\n",
        "# Group the data by year and count the number of papers for each year\n",
        "yearly_counts = df['year'].value_counts().sort_index()\n",
        "\n",
        "# Plot the count of papers each year\n",
        "plt.figure(figsize=(10, 6))\n",
        "yearly_counts.plot(kind='bar', color='skyblue')\n",
        "plt.title('Count of Papers Each Year')\n",
        "plt.xlabel('Year')\n",
        "plt.ylabel('Number of Papers')\n",
        "plt.xticks(rotation=45)  # Rotate x-axis labels for better visibility\n",
        "plt.show()\n"
      ]
    },
    {
      "cell_type": "code",
      "execution_count": 69,
      "metadata": {
        "colab": {
          "base_uri": "https://localhost:8080/"
        },
        "id": "FBAsuiVmceiU",
        "outputId": "eadf53e2-f714-492f-cc5e-96be0474967c"
      },
      "outputs": [
        {
          "output_type": "stream",
          "name": "stdout",
          "text": [
            "Missing values by column:\n"
          ]
        },
        {
          "output_type": "execute_result",
          "data": {
            "text/plain": [
              "title       0\n",
              "abstract    0\n",
              "year        0\n",
              "dtype: int64"
            ]
          },
          "metadata": {},
          "execution_count": 69
        }
      ],
      "source": [
        "print(\"Missing values by column:\")\n",
        "df.isnull().sum()"
      ]
    },
    {
      "cell_type": "code",
      "execution_count": 70,
      "metadata": {
        "id": "lIZHrgRZTTVj"
      },
      "outputs": [],
      "source": [
        "import pandas as pd\n",
        "import re\n",
        "from nltk.corpus import stopwords\n",
        "from nltk.tokenize import word_tokenize\n",
        "from nltk.stem import PorterStemmer"
      ]
    },
    {
      "cell_type": "code",
      "execution_count": 71,
      "metadata": {
        "id": "yw3ZCYuiTGco"
      },
      "outputs": [],
      "source": [
        "\n",
        "\n",
        "# Define a function for text preprocessing\n",
        "def preprocess_text(text):\n",
        "    # Convert text to lowercase\n",
        "    text = text.lower()\n",
        "\n",
        "    # Remove special characters, numbers, and punctuation\n",
        "    text = re.sub(r'[^a-zA-Z]', ' ', text)\n",
        "\n",
        "    # Tokenize the text\n",
        "    tokens = word_tokenize(text)\n",
        "\n",
        "    # Remove stopwords\n",
        "    stop_words = set(stopwords.words('english'))\n",
        "    filtered_tokens = [word for word in tokens if word not in stop_words]\n",
        "\n",
        "    # Stemming (you can also use lemmatization)\n",
        "    stemmer = PorterStemmer()\n",
        "    stemmed_tokens = [stemmer.stem(word) for word in filtered_tokens]\n",
        "\n",
        "    # Join tokens back into a string\n",
        "    preprocessed_text = ' '.join(stemmed_tokens)\n",
        "\n",
        "    return preprocessed_text\n",
        "\n",
        "df['newabstract'] = df['abstract'].apply(preprocess_text)\n",
        "\n",
        "# Now, your \"Title\" and \"Abstract\" columns in the DataFrame have been preprocessed."
      ]
    },
    {
      "cell_type": "code",
      "execution_count": 72,
      "metadata": {
        "colab": {
          "base_uri": "https://localhost:8080/",
          "height": 770
        },
        "id": "2BZ2Vy3icbHM",
        "outputId": "3fc64668-e0ad-430c-bc4c-0382f3de3fda"
      },
      "outputs": [
        {
          "output_type": "execute_result",
          "data": {
            "text/plain": [
              "                                                    title  \\\n",
              "0       Supernovae Powered by Collapsar Accretion in G...   \n",
              "1       Itinerant-Electron Magnetism in the Heisenberg...   \n",
              "2       Convergent finite difference solvers for visco...   \n",
              "3          Non-equilibrium steady state of sparse systems   \n",
              "4                    Retransmission Steganography Applied   \n",
              "...                                                   ...   \n",
              "199995  Thermal spin fluctuations in spinor Bose-Einst...   \n",
              "199996  Commuting Local Hamiltonians on Expanders, Loc...   \n",
              "199997  Dirichlet-Neumann inverse spectral problem for...   \n",
              "199998  Finite groups and Lie rings with a metacyclic ...   \n",
              "199999  Fractures in complex fluids: the case of trans...   \n",
              "\n",
              "                                                 abstract  year  \\\n",
              "0         The association of long-duration gamma-ray b...  2015   \n",
              "1         The Hubbard model in the Heisenberg limit is...  2010   \n",
              "2         The elliptic Monge-Amp\\`ere equation is a fu...  2011   \n",
              "3         A resistor-network picture of transitions is...  2011   \n",
              "4         This paper presents experimental results of ...  2010   \n",
              "...                                                   ...   ...   \n",
              "199995    We study the thermal activation of spin fluc...  2013   \n",
              "199996    Understanding commuting local Hamiltonians (...  2013   \n",
              "199997    We solve two inverse spectral problems for s...  2016   \n",
              "199998    Suppose that a finite group $G$ admits a Fro...  2013   \n",
              "199999    We present a comprehensive review of the cur...  2013   \n",
              "\n",
              "                                              newabstract  \n",
              "0       associ long durat gamma ray burst lgrb type ic...  \n",
              "1       hubbard model heisenberg limit studi kondo lat...  \n",
              "2       ellipt mong amp ere equat fulli nonlinear part...  \n",
              "3       resistor network pictur transit appropri studi...  \n",
              "4       paper present experiment result implement netw...  \n",
              "...                                                   ...  \n",
              "199995  studi thermal activ spin fluctuat dynam stabl ...  \n",
              "199996  understand commut local hamiltonian clh heart ...  \n",
              "199997  solv two invers spectral problem star graph st...  \n",
              "199998  suppos finit group g admit frobeniu group auto...  \n",
              "199999  present comprehens review current state fractu...  \n",
              "\n",
              "[200000 rows x 4 columns]"
            ],
            "text/html": [
              "\n",
              "  <div id=\"df-56ed00fc-60e5-4a72-9ec8-a4ec61ea15cc\" class=\"colab-df-container\">\n",
              "    <div>\n",
              "<style scoped>\n",
              "    .dataframe tbody tr th:only-of-type {\n",
              "        vertical-align: middle;\n",
              "    }\n",
              "\n",
              "    .dataframe tbody tr th {\n",
              "        vertical-align: top;\n",
              "    }\n",
              "\n",
              "    .dataframe thead th {\n",
              "        text-align: right;\n",
              "    }\n",
              "</style>\n",
              "<table border=\"1\" class=\"dataframe\">\n",
              "  <thead>\n",
              "    <tr style=\"text-align: right;\">\n",
              "      <th></th>\n",
              "      <th>title</th>\n",
              "      <th>abstract</th>\n",
              "      <th>year</th>\n",
              "      <th>newabstract</th>\n",
              "    </tr>\n",
              "  </thead>\n",
              "  <tbody>\n",
              "    <tr>\n",
              "      <th>0</th>\n",
              "      <td>Supernovae Powered by Collapsar Accretion in G...</td>\n",
              "      <td>The association of long-duration gamma-ray b...</td>\n",
              "      <td>2015</td>\n",
              "      <td>associ long durat gamma ray burst lgrb type ic...</td>\n",
              "    </tr>\n",
              "    <tr>\n",
              "      <th>1</th>\n",
              "      <td>Itinerant-Electron Magnetism in the Heisenberg...</td>\n",
              "      <td>The Hubbard model in the Heisenberg limit is...</td>\n",
              "      <td>2010</td>\n",
              "      <td>hubbard model heisenberg limit studi kondo lat...</td>\n",
              "    </tr>\n",
              "    <tr>\n",
              "      <th>2</th>\n",
              "      <td>Convergent finite difference solvers for visco...</td>\n",
              "      <td>The elliptic Monge-Amp\\`ere equation is a fu...</td>\n",
              "      <td>2011</td>\n",
              "      <td>ellipt mong amp ere equat fulli nonlinear part...</td>\n",
              "    </tr>\n",
              "    <tr>\n",
              "      <th>3</th>\n",
              "      <td>Non-equilibrium steady state of sparse systems</td>\n",
              "      <td>A resistor-network picture of transitions is...</td>\n",
              "      <td>2011</td>\n",
              "      <td>resistor network pictur transit appropri studi...</td>\n",
              "    </tr>\n",
              "    <tr>\n",
              "      <th>4</th>\n",
              "      <td>Retransmission Steganography Applied</td>\n",
              "      <td>This paper presents experimental results of ...</td>\n",
              "      <td>2010</td>\n",
              "      <td>paper present experiment result implement netw...</td>\n",
              "    </tr>\n",
              "    <tr>\n",
              "      <th>...</th>\n",
              "      <td>...</td>\n",
              "      <td>...</td>\n",
              "      <td>...</td>\n",
              "      <td>...</td>\n",
              "    </tr>\n",
              "    <tr>\n",
              "      <th>199995</th>\n",
              "      <td>Thermal spin fluctuations in spinor Bose-Einst...</td>\n",
              "      <td>We study the thermal activation of spin fluc...</td>\n",
              "      <td>2013</td>\n",
              "      <td>studi thermal activ spin fluctuat dynam stabl ...</td>\n",
              "    </tr>\n",
              "    <tr>\n",
              "      <th>199996</th>\n",
              "      <td>Commuting Local Hamiltonians on Expanders, Loc...</td>\n",
              "      <td>Understanding commuting local Hamiltonians (...</td>\n",
              "      <td>2013</td>\n",
              "      <td>understand commut local hamiltonian clh heart ...</td>\n",
              "    </tr>\n",
              "    <tr>\n",
              "      <th>199997</th>\n",
              "      <td>Dirichlet-Neumann inverse spectral problem for...</td>\n",
              "      <td>We solve two inverse spectral problems for s...</td>\n",
              "      <td>2016</td>\n",
              "      <td>solv two invers spectral problem star graph st...</td>\n",
              "    </tr>\n",
              "    <tr>\n",
              "      <th>199998</th>\n",
              "      <td>Finite groups and Lie rings with a metacyclic ...</td>\n",
              "      <td>Suppose that a finite group $G$ admits a Fro...</td>\n",
              "      <td>2013</td>\n",
              "      <td>suppos finit group g admit frobeniu group auto...</td>\n",
              "    </tr>\n",
              "    <tr>\n",
              "      <th>199999</th>\n",
              "      <td>Fractures in complex fluids: the case of trans...</td>\n",
              "      <td>We present a comprehensive review of the cur...</td>\n",
              "      <td>2013</td>\n",
              "      <td>present comprehens review current state fractu...</td>\n",
              "    </tr>\n",
              "  </tbody>\n",
              "</table>\n",
              "<p>200000 rows × 4 columns</p>\n",
              "</div>\n",
              "    <div class=\"colab-df-buttons\">\n",
              "\n",
              "  <div class=\"colab-df-container\">\n",
              "    <button class=\"colab-df-convert\" onclick=\"convertToInteractive('df-56ed00fc-60e5-4a72-9ec8-a4ec61ea15cc')\"\n",
              "            title=\"Convert this dataframe to an interactive table.\"\n",
              "            style=\"display:none;\">\n",
              "\n",
              "  <svg xmlns=\"http://www.w3.org/2000/svg\" height=\"24px\" viewBox=\"0 -960 960 960\">\n",
              "    <path d=\"M120-120v-720h720v720H120Zm60-500h600v-160H180v160Zm220 220h160v-160H400v160Zm0 220h160v-160H400v160ZM180-400h160v-160H180v160Zm440 0h160v-160H620v160ZM180-180h160v-160H180v160Zm440 0h160v-160H620v160Z\"/>\n",
              "  </svg>\n",
              "    </button>\n",
              "\n",
              "  <style>\n",
              "    .colab-df-container {\n",
              "      display:flex;\n",
              "      gap: 12px;\n",
              "    }\n",
              "\n",
              "    .colab-df-convert {\n",
              "      background-color: #E8F0FE;\n",
              "      border: none;\n",
              "      border-radius: 50%;\n",
              "      cursor: pointer;\n",
              "      display: none;\n",
              "      fill: #1967D2;\n",
              "      height: 32px;\n",
              "      padding: 0 0 0 0;\n",
              "      width: 32px;\n",
              "    }\n",
              "\n",
              "    .colab-df-convert:hover {\n",
              "      background-color: #E2EBFA;\n",
              "      box-shadow: 0px 1px 2px rgba(60, 64, 67, 0.3), 0px 1px 3px 1px rgba(60, 64, 67, 0.15);\n",
              "      fill: #174EA6;\n",
              "    }\n",
              "\n",
              "    .colab-df-buttons div {\n",
              "      margin-bottom: 4px;\n",
              "    }\n",
              "\n",
              "    [theme=dark] .colab-df-convert {\n",
              "      background-color: #3B4455;\n",
              "      fill: #D2E3FC;\n",
              "    }\n",
              "\n",
              "    [theme=dark] .colab-df-convert:hover {\n",
              "      background-color: #434B5C;\n",
              "      box-shadow: 0px 1px 3px 1px rgba(0, 0, 0, 0.15);\n",
              "      filter: drop-shadow(0px 1px 2px rgba(0, 0, 0, 0.3));\n",
              "      fill: #FFFFFF;\n",
              "    }\n",
              "  </style>\n",
              "\n",
              "    <script>\n",
              "      const buttonEl =\n",
              "        document.querySelector('#df-56ed00fc-60e5-4a72-9ec8-a4ec61ea15cc button.colab-df-convert');\n",
              "      buttonEl.style.display =\n",
              "        google.colab.kernel.accessAllowed ? 'block' : 'none';\n",
              "\n",
              "      async function convertToInteractive(key) {\n",
              "        const element = document.querySelector('#df-56ed00fc-60e5-4a72-9ec8-a4ec61ea15cc');\n",
              "        const dataTable =\n",
              "          await google.colab.kernel.invokeFunction('convertToInteractive',\n",
              "                                                    [key], {});\n",
              "        if (!dataTable) return;\n",
              "\n",
              "        const docLinkHtml = 'Like what you see? Visit the ' +\n",
              "          '<a target=\"_blank\" href=https://colab.research.google.com/notebooks/data_table.ipynb>data table notebook</a>'\n",
              "          + ' to learn more about interactive tables.';\n",
              "        element.innerHTML = '';\n",
              "        dataTable['output_type'] = 'display_data';\n",
              "        await google.colab.output.renderOutput(dataTable, element);\n",
              "        const docLink = document.createElement('div');\n",
              "        docLink.innerHTML = docLinkHtml;\n",
              "        element.appendChild(docLink);\n",
              "      }\n",
              "    </script>\n",
              "  </div>\n",
              "\n",
              "\n",
              "<div id=\"df-5a74bbae-0f6b-4d4a-9040-58999b9f0475\">\n",
              "  <button class=\"colab-df-quickchart\" onclick=\"quickchart('df-5a74bbae-0f6b-4d4a-9040-58999b9f0475')\"\n",
              "            title=\"Suggest charts.\"\n",
              "            style=\"display:none;\">\n",
              "\n",
              "<svg xmlns=\"http://www.w3.org/2000/svg\" height=\"24px\"viewBox=\"0 0 24 24\"\n",
              "     width=\"24px\">\n",
              "    <g>\n",
              "        <path d=\"M19 3H5c-1.1 0-2 .9-2 2v14c0 1.1.9 2 2 2h14c1.1 0 2-.9 2-2V5c0-1.1-.9-2-2-2zM9 17H7v-7h2v7zm4 0h-2V7h2v10zm4 0h-2v-4h2v4z\"/>\n",
              "    </g>\n",
              "</svg>\n",
              "  </button>\n",
              "\n",
              "<style>\n",
              "  .colab-df-quickchart {\n",
              "      --bg-color: #E8F0FE;\n",
              "      --fill-color: #1967D2;\n",
              "      --hover-bg-color: #E2EBFA;\n",
              "      --hover-fill-color: #174EA6;\n",
              "      --disabled-fill-color: #AAA;\n",
              "      --disabled-bg-color: #DDD;\n",
              "  }\n",
              "\n",
              "  [theme=dark] .colab-df-quickchart {\n",
              "      --bg-color: #3B4455;\n",
              "      --fill-color: #D2E3FC;\n",
              "      --hover-bg-color: #434B5C;\n",
              "      --hover-fill-color: #FFFFFF;\n",
              "      --disabled-bg-color: #3B4455;\n",
              "      --disabled-fill-color: #666;\n",
              "  }\n",
              "\n",
              "  .colab-df-quickchart {\n",
              "    background-color: var(--bg-color);\n",
              "    border: none;\n",
              "    border-radius: 50%;\n",
              "    cursor: pointer;\n",
              "    display: none;\n",
              "    fill: var(--fill-color);\n",
              "    height: 32px;\n",
              "    padding: 0;\n",
              "    width: 32px;\n",
              "  }\n",
              "\n",
              "  .colab-df-quickchart:hover {\n",
              "    background-color: var(--hover-bg-color);\n",
              "    box-shadow: 0 1px 2px rgba(60, 64, 67, 0.3), 0 1px 3px 1px rgba(60, 64, 67, 0.15);\n",
              "    fill: var(--button-hover-fill-color);\n",
              "  }\n",
              "\n",
              "  .colab-df-quickchart-complete:disabled,\n",
              "  .colab-df-quickchart-complete:disabled:hover {\n",
              "    background-color: var(--disabled-bg-color);\n",
              "    fill: var(--disabled-fill-color);\n",
              "    box-shadow: none;\n",
              "  }\n",
              "\n",
              "  .colab-df-spinner {\n",
              "    border: 2px solid var(--fill-color);\n",
              "    border-color: transparent;\n",
              "    border-bottom-color: var(--fill-color);\n",
              "    animation:\n",
              "      spin 1s steps(1) infinite;\n",
              "  }\n",
              "\n",
              "  @keyframes spin {\n",
              "    0% {\n",
              "      border-color: transparent;\n",
              "      border-bottom-color: var(--fill-color);\n",
              "      border-left-color: var(--fill-color);\n",
              "    }\n",
              "    20% {\n",
              "      border-color: transparent;\n",
              "      border-left-color: var(--fill-color);\n",
              "      border-top-color: var(--fill-color);\n",
              "    }\n",
              "    30% {\n",
              "      border-color: transparent;\n",
              "      border-left-color: var(--fill-color);\n",
              "      border-top-color: var(--fill-color);\n",
              "      border-right-color: var(--fill-color);\n",
              "    }\n",
              "    40% {\n",
              "      border-color: transparent;\n",
              "      border-right-color: var(--fill-color);\n",
              "      border-top-color: var(--fill-color);\n",
              "    }\n",
              "    60% {\n",
              "      border-color: transparent;\n",
              "      border-right-color: var(--fill-color);\n",
              "    }\n",
              "    80% {\n",
              "      border-color: transparent;\n",
              "      border-right-color: var(--fill-color);\n",
              "      border-bottom-color: var(--fill-color);\n",
              "    }\n",
              "    90% {\n",
              "      border-color: transparent;\n",
              "      border-bottom-color: var(--fill-color);\n",
              "    }\n",
              "  }\n",
              "</style>\n",
              "\n",
              "  <script>\n",
              "    async function quickchart(key) {\n",
              "      const quickchartButtonEl =\n",
              "        document.querySelector('#' + key + ' button');\n",
              "      quickchartButtonEl.disabled = true;  // To prevent multiple clicks.\n",
              "      quickchartButtonEl.classList.add('colab-df-spinner');\n",
              "      try {\n",
              "        const charts = await google.colab.kernel.invokeFunction(\n",
              "            'suggestCharts', [key], {});\n",
              "      } catch (error) {\n",
              "        console.error('Error during call to suggestCharts:', error);\n",
              "      }\n",
              "      quickchartButtonEl.classList.remove('colab-df-spinner');\n",
              "      quickchartButtonEl.classList.add('colab-df-quickchart-complete');\n",
              "    }\n",
              "    (() => {\n",
              "      let quickchartButtonEl =\n",
              "        document.querySelector('#df-5a74bbae-0f6b-4d4a-9040-58999b9f0475 button');\n",
              "      quickchartButtonEl.style.display =\n",
              "        google.colab.kernel.accessAllowed ? 'block' : 'none';\n",
              "    })();\n",
              "  </script>\n",
              "</div>\n",
              "    </div>\n",
              "  </div>\n"
            ]
          },
          "metadata": {},
          "execution_count": 72
        }
      ],
      "source": [
        "df"
      ]
    },
    {
      "cell_type": "code",
      "execution_count": 73,
      "metadata": {
        "id": "00NxcNRZdLsU"
      },
      "outputs": [],
      "source": [
        "df.to_csv(\"cleaned_data.csv\")"
      ]
    },
    {
      "cell_type": "code",
      "execution_count": 74,
      "metadata": {
        "colab": {
          "base_uri": "https://localhost:8080/",
          "height": 243
        },
        "id": "yroppBc3TSAj",
        "outputId": "36e80589-dffd-4515-8cb5-5283784acd2a"
      },
      "outputs": [
        {
          "output_type": "execute_result",
          "data": {
            "text/plain": [
              "\"  The association of long-duration gamma-ray bursts (LGRBs) with Type Ic\\nsupernovae presents a challenge to supernova explosion models. In the collapsar\\nmodel for LGRBs, gamma rays are produced in an ultrarelativistic jet launching\\nfrom the magnetosphere of the black hole that forms in the aftermath of the\\ncollapse of a rotating progenitor star. The jet is collimated along the star's\\nrotation axis, but the concomitant luminous supernova should be\\nrelatively--though certainly not entirely--spherical, and should synthesize a\\nsubstantial mass of 56Ni. Our goal is to provide a qualitative assessment of\\nthe possibility that accretion of the progenitor envelope onto the black hole,\\nwhich powers the LGRB, could also deposit sufficient energy and nickel mass in\\nthe envelope to produce a luminous supernova. For this, the energy dissipated\\nnear the black hole during accretion must be transported outward, where it can\\ndrive a supernova-like shockwave. Here we suggest that the energy is\\ntransported by convection and develop an analytical toy model, relying on\\nglobal mass and energy conservation, for the dynamics of stellar collapse. The\\nmodel suggests that a ~10,000 km/s shock can be driven into the envelope and\\nthat ~10^51 erg explosions are possible. The efficiency with which the\\naccretion energy is being transferred to the envelope is governed by the\\ncompetition of advection and convection at distances ~100-1,000 km from the\\nblack hole and is sensitive to the values of the convective mixing length, the\\nmagnitude of the effective viscous stress, and the specific angular momentum of\\nthe infalling envelope. Substantial masses of 56Ni may be synthesized in the\\nconvective accretion flow over the course of tens of seconds from the initial\\ncircularization of the infalling envelope around the black hole. The\\nsynthesized nickel is convectively mixed with a much larger mass of unburned\\nejecta.\\n\""
            ],
            "application/vnd.google.colaboratory.intrinsic+json": {
              "type": "string"
            }
          },
          "metadata": {},
          "execution_count": 74
        }
      ],
      "source": [
        "df['abstract'][0]"
      ]
    },
    {
      "cell_type": "code",
      "execution_count": 75,
      "metadata": {
        "id": "Rgw5leAt9NG2"
      },
      "outputs": [],
      "source": [
        "from sklearn.feature_extraction.text import TfidfVectorizer\n",
        "\n",
        "# Create a TF-IDF vectorizer\n",
        "tfidf_vectorizer = TfidfVectorizer(max_features=5000)  # You can adjust the number of features as needed\n",
        "\n",
        "# Fit and transform the Abstract column\n",
        "tfidf_abstract = tfidf_vectorizer.fit_transform(df['newabstract'])\n"
      ]
    },
    {
      "cell_type": "code",
      "execution_count": 78,
      "metadata": {
        "colab": {
          "base_uri": "https://localhost:8080/"
        },
        "id": "0cCff3lq93y2",
        "outputId": "f331fb29-1872-4cdb-c242-07f5d6f2f6e5"
      },
      "outputs": [
        {
          "output_type": "stream",
          "name": "stdout",
          "text": [
            "The new idea is not present in the dataset.\n",
            "Top 5 Related Papers:\n",
            "1. Paper Title: Star-covering properties: generalized $\\Psi$-spaces, countability\n",
            "  conditions, reflection, \n",
            "Index: 52983, \n",
            "Cosine Similarity Score: 0.34223862356603985\n",
            "\n",
            "2. Paper Title: Notes on the od-Lindel\\\"of property, \n",
            "Index: 146814, \n",
            "Cosine Similarity Score: 0.28111203694680953\n",
            "\n",
            "3. Paper Title: Discovery of the Expansion of the Universe, \n",
            "Index: 78746, \n",
            "Cosine Similarity Score: 0.19631844203637921\n",
            "\n",
            "4. Paper Title: Optical pulsations from isolated neutron stars, \n",
            "Index: 103770, \n",
            "Cosine Similarity Score: 0.1812331152890797\n",
            "\n",
            "5. Paper Title: A pseudogap term in the magnetic response of the cuprate superconductors, \n",
            "Index: 40772, \n",
            "Cosine Similarity Score: 0.15045600564691552\n",
            "\n"
          ]
        }
      ],
      "source": [
        "import pandas as pd\n",
        "from sklearn.feature_extraction.text import TfidfVectorizer\n",
        "from sklearn.metrics.pairwise import cosine_similarity\n",
        "\n",
        "def check_similarity(new_idea, dataset_df, threshold=0.35, top_n=5):\n",
        "    # Transform the dataset abstracts\n",
        "    tfidf_vectorizer = TfidfVectorizer()\n",
        "    tfidf_abstract = tfidf_vectorizer.fit_transform(dataset_df['newabstract'])\n",
        "\n",
        "    # Transform the new idea\n",
        "    tfidf_new_idea = tfidf_vectorizer.transform([new_idea])\n",
        "\n",
        "    # Calculate cosine similarity between the new idea and all abstracts\n",
        "    cosine_similarities = cosine_similarity(tfidf_new_idea, tfidf_abstract)\n",
        "\n",
        "    # Check if the new idea's similarity to any paper is greater than the threshold\n",
        "    is_idea_already_present = any(similarity > threshold for similarity in cosine_similarities[0])\n",
        "\n",
        "    # Find the top N similar papers\n",
        "    top_indices = cosine_similarities.argsort()[0][::-1][:top_n]\n",
        "    top_scores = [cosine_similarities[0][i] for i in top_indices]\n",
        "\n",
        "    return is_idea_already_present, top_indices, top_scores\n",
        "\n",
        "# Usage example:\n",
        "new_idea = \"\"\"This article is about the use of Myth in Tamil literature. The stories and philosophical sayings of the inevitable god are termed as “MYTH\". The antiquity of language is based on the diversity of myths used in that language. Myth is considered the spirit of the literature. In foreign countries, myth plays a unique and professional role. The author applies the idea of myth to make his work efficient. The beliefs of the end of the world and thoughts beyond the reach of human beings are seen in myths. The roots of myth have been gowned dup from the ancient Tamil literature to revival poetry of the 20th century. Myth is even present in secular literature works as the Sangam literature Heritage period went to its peak. Myth played a diverse role in Tamil literature. Library research was made for this study and an explanatory method was used to write this article. The findings of this article are Culture and Tradition of Race are influencing myth and how the myth was seen in the literature. This study summarizes the uses of myths and ideology in Tamil literature.\"\"\"\n",
        "# Assuming you already have the 'df' DataFrame\n",
        "is_present, top_indices, top_scores = check_similarity(new_idea, df)\n",
        "\n",
        "if is_present:\n",
        "    print(\"The new idea is already present in the dataset.\")\n",
        "else:\n",
        "    print(\"The new idea is not present in the dataset.\")\n",
        "\n",
        "if len(top_indices) > 0:\n",
        "    print(\"Top 5 Related Papers:\")\n",
        "    for i, (index, score) in enumerate(zip(top_indices, top_scores), start=1):\n",
        "        title = df.loc[index]['title']  # Replace 'title' with your actual title column name\n",
        "        print(f\"{i}. Paper Title: {title}, \\nIndex: {index}, \\nCosine Similarity Score: {score}\")\n",
        "        print()\n",
        "else:\n",
        "    print(\"No related papers found.\")\n",
        "\n",
        "\n"
      ]
    },
    {
      "cell_type": "markdown",
      "metadata": {
        "id": "HjJMbqvdO_J0"
      },
      "source": [
        "####Extract keywords or key phrases from the new idea and compare them with the keywords in the dataset's abstracts. This can be a quick way to identify potential matches."
      ]
    },
    {
      "cell_type": "markdown",
      "metadata": {
        "id": "Q2wvFlPGcLTO"
      },
      "source": [
        "#### Using BERT Model"
      ]
    },
    {
      "cell_type": "code",
      "execution_count": 80,
      "metadata": {
        "colab": {
          "base_uri": "https://localhost:8080/"
        },
        "id": "n8u_1fRhcUlI",
        "outputId": "c02694ef-67d6-4328-afb8-79a490adf28a"
      },
      "outputs": [
        {
          "output_type": "stream",
          "name": "stdout",
          "text": [
            "Requirement already satisfied: sentence_transformers in /usr/local/lib/python3.10/dist-packages (2.2.2)\n",
            "Requirement already satisfied: transformers<5.0.0,>=4.6.0 in /usr/local/lib/python3.10/dist-packages (from sentence_transformers) (4.34.1)\n",
            "Requirement already satisfied: tqdm in /usr/local/lib/python3.10/dist-packages (from sentence_transformers) (4.66.1)\n",
            "Requirement already satisfied: torch>=1.6.0 in /usr/local/lib/python3.10/dist-packages (from sentence_transformers) (2.1.0+cu118)\n",
            "Requirement already satisfied: torchvision in /usr/local/lib/python3.10/dist-packages (from sentence_transformers) (0.16.0+cu118)\n",
            "Requirement already satisfied: numpy in /usr/local/lib/python3.10/dist-packages (from sentence_transformers) (1.23.5)\n",
            "Requirement already satisfied: scikit-learn in /usr/local/lib/python3.10/dist-packages (from sentence_transformers) (1.2.2)\n",
            "Requirement already satisfied: scipy in /usr/local/lib/python3.10/dist-packages (from sentence_transformers) (1.11.3)\n",
            "Requirement already satisfied: nltk in /usr/local/lib/python3.10/dist-packages (from sentence_transformers) (3.8.1)\n",
            "Requirement already satisfied: sentencepiece in /usr/local/lib/python3.10/dist-packages (from sentence_transformers) (0.1.99)\n",
            "Requirement already satisfied: huggingface-hub>=0.4.0 in /usr/local/lib/python3.10/dist-packages (from sentence_transformers) (0.17.3)\n",
            "Requirement already satisfied: filelock in /usr/local/lib/python3.10/dist-packages (from huggingface-hub>=0.4.0->sentence_transformers) (3.12.4)\n",
            "Requirement already satisfied: fsspec in /usr/local/lib/python3.10/dist-packages (from huggingface-hub>=0.4.0->sentence_transformers) (2023.6.0)\n",
            "Requirement already satisfied: requests in /usr/local/lib/python3.10/dist-packages (from huggingface-hub>=0.4.0->sentence_transformers) (2.31.0)\n",
            "Requirement already satisfied: pyyaml>=5.1 in /usr/local/lib/python3.10/dist-packages (from huggingface-hub>=0.4.0->sentence_transformers) (6.0.1)\n",
            "Requirement already satisfied: typing-extensions>=3.7.4.3 in /usr/local/lib/python3.10/dist-packages (from huggingface-hub>=0.4.0->sentence_transformers) (4.5.0)\n",
            "Requirement already satisfied: packaging>=20.9 in /usr/local/lib/python3.10/dist-packages (from huggingface-hub>=0.4.0->sentence_transformers) (23.2)\n",
            "Requirement already satisfied: sympy in /usr/local/lib/python3.10/dist-packages (from torch>=1.6.0->sentence_transformers) (1.12)\n",
            "Requirement already satisfied: networkx in /usr/local/lib/python3.10/dist-packages (from torch>=1.6.0->sentence_transformers) (3.2)\n",
            "Requirement already satisfied: jinja2 in /usr/local/lib/python3.10/dist-packages (from torch>=1.6.0->sentence_transformers) (3.1.2)\n",
            "Requirement already satisfied: triton==2.1.0 in /usr/local/lib/python3.10/dist-packages (from torch>=1.6.0->sentence_transformers) (2.1.0)\n",
            "Requirement already satisfied: regex!=2019.12.17 in /usr/local/lib/python3.10/dist-packages (from transformers<5.0.0,>=4.6.0->sentence_transformers) (2023.6.3)\n",
            "Requirement already satisfied: tokenizers<0.15,>=0.14 in /usr/local/lib/python3.10/dist-packages (from transformers<5.0.0,>=4.6.0->sentence_transformers) (0.14.1)\n",
            "Requirement already satisfied: safetensors>=0.3.1 in /usr/local/lib/python3.10/dist-packages (from transformers<5.0.0,>=4.6.0->sentence_transformers) (0.4.0)\n",
            "Requirement already satisfied: click in /usr/local/lib/python3.10/dist-packages (from nltk->sentence_transformers) (8.1.7)\n",
            "Requirement already satisfied: joblib in /usr/local/lib/python3.10/dist-packages (from nltk->sentence_transformers) (1.3.2)\n",
            "Requirement already satisfied: threadpoolctl>=2.0.0 in /usr/local/lib/python3.10/dist-packages (from scikit-learn->sentence_transformers) (3.2.0)\n",
            "Requirement already satisfied: pillow!=8.3.*,>=5.3.0 in /usr/local/lib/python3.10/dist-packages (from torchvision->sentence_transformers) (9.4.0)\n",
            "Requirement already satisfied: MarkupSafe>=2.0 in /usr/local/lib/python3.10/dist-packages (from jinja2->torch>=1.6.0->sentence_transformers) (2.1.3)\n",
            "Requirement already satisfied: charset-normalizer<4,>=2 in /usr/local/lib/python3.10/dist-packages (from requests->huggingface-hub>=0.4.0->sentence_transformers) (3.3.1)\n",
            "Requirement already satisfied: idna<4,>=2.5 in /usr/local/lib/python3.10/dist-packages (from requests->huggingface-hub>=0.4.0->sentence_transformers) (3.4)\n",
            "Requirement already satisfied: urllib3<3,>=1.21.1 in /usr/local/lib/python3.10/dist-packages (from requests->huggingface-hub>=0.4.0->sentence_transformers) (2.0.7)\n",
            "Requirement already satisfied: certifi>=2017.4.17 in /usr/local/lib/python3.10/dist-packages (from requests->huggingface-hub>=0.4.0->sentence_transformers) (2023.7.22)\n",
            "Requirement already satisfied: mpmath>=0.19 in /usr/local/lib/python3.10/dist-packages (from sympy->torch>=1.6.0->sentence_transformers) (1.3.0)\n"
          ]
        }
      ],
      "source": [
        "!pip install sentence_transformers"
      ]
    },
    {
      "cell_type": "code",
      "execution_count": 79,
      "metadata": {
        "id": "J4WjWScYc9BG"
      },
      "outputs": [],
      "source": [
        "new_idea = \"\"\"This article is about the use of Myth in Tamil literature. The stories and philosophical sayings of the inevitable god are termed as “MYTH\". The antiquity of language is based on the diversity of myths used in that language. Myth is considered the spirit of the literature. In foreign countries, myth plays a unique and professional role. The author applies the idea of myth to make his work efficient. The beliefs of the end of the world and thoughts beyond the reach of human beings are seen in myths. The roots of myth have been gowned dup from the ancient Tamil literature to revival poetry of the 20th century. Myth is even present in secular literature works as the Sangam literature Heritage period went to its peak. Myth played a diverse role in Tamil literature. Library research was made for this study and an explanatory method was used to write this article. The findings of this article are Culture and Tradition of Race are influencing myth and how the myth was seen in the literature. This study summarizes the uses of myths and ideology in Tamil literature.\"\"\""
      ]
    },
    {
      "cell_type": "code",
      "execution_count": null,
      "metadata": {
        "id": "BjMiRW9dcKiC"
      },
      "outputs": [],
      "source": [
        "import pandas as pd\n",
        "from sentence_transformers import SentenceTransformer, util\n",
        "\n",
        "\n",
        "# Load a pre-trained BERT-based model\n",
        "model_name = \"bert-base-nli-mean-tokens\"  # This is a BERT-based model fine-tuned for sentence embeddings\n",
        "model = SentenceTransformer(model_name)\n",
        "\n",
        "# Convert abstracts to sentence embeddings\n",
        "abstract_embeddings = model.encode(df['newabstract'].tolist(), convert_to_tensor=True)\n",
        "\n",
        "# Encode the new idea\n",
        "new_idea_embedding = model.encode(new_idea, convert_to_tensor=True)\n",
        "\n",
        "# Calculate cosine similarities between the new idea and all abstracts\n",
        "similarities = util.pytorch_cos_sim(new_idea_embedding, abstract_embeddings)\n"
      ]
    },
    {
      "cell_type": "code",
      "execution_count": null,
      "metadata": {
        "id": "Qq8m1AbvkGsI"
      },
      "outputs": [],
      "source": [
        "similarities"
      ]
    },
    {
      "cell_type": "code",
      "execution_count": null,
      "metadata": {
        "id": "z7HMWylEkW6H"
      },
      "outputs": [],
      "source": [
        "# Move the similarities tensor to CPU\n",
        "similarities = similarities.cpu()"
      ]
    },
    {
      "cell_type": "code",
      "execution_count": null,
      "metadata": {
        "id": "u8LSVoQJkYLz"
      },
      "outputs": [],
      "source": [
        "similarities"
      ]
    },
    {
      "cell_type": "code",
      "execution_count": null,
      "metadata": {
        "id": "oLYEQBgKkgIa"
      },
      "outputs": [],
      "source": [
        "# a similarity threshold to determine if the idea already exists\n",
        "similarity_threshold = 0.85\n",
        "\n",
        "# Check if any paper has a similarity score above the threshold\n",
        "if any(similarity > similarity_threshold for similarity in similarities[0]):\n",
        "    print(\"The new idea is already present in the dataset.\")\n",
        "else:\n",
        "    print(\"The new idea is not present in the dataset.\")"
      ]
    }
  ],
  "metadata": {
    "accelerator": "GPU",
    "colab": {
      "provenance": []
    },
    "kernelspec": {
      "display_name": "Python 3",
      "name": "python3"
    },
    "language_info": {
      "name": "python"
    }
  },
  "nbformat": 4,
  "nbformat_minor": 0
}