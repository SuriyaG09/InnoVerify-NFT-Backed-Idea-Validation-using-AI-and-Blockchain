{
  "nbformat": 4,
  "nbformat_minor": 0,
  "metadata": {
    "colab": {
      "provenance": [],
      "gpuType": "T4",
      "authorship_tag": "ABX9TyNlJK05vKCdaIMppudvQHbb",
      "include_colab_link": true
    },
    "kernelspec": {
      "name": "python3",
      "display_name": "Python 3"
    },
    "language_info": {
      "name": "python"
    },
    "accelerator": "GPU"
  },
  "cells": [
    {
      "cell_type": "markdown",
      "metadata": {
        "id": "view-in-github",
        "colab_type": "text"
      },
      "source": [
        "<a href=\"https://colab.research.google.com/github/SuriyaG09/InnoVerify-NFT-Backed-Idea-Validation-using-AI-and-Blockchain/blob/main/Tarp_project_start.ipynb\" target=\"_parent\"><img src=\"https://colab.research.google.com/assets/colab-badge.svg\" alt=\"Open In Colab\"/></a>"
      ]
    },
    {
      "cell_type": "code",
      "source": [
        "from google.colab import drive\n",
        "drive.mount('/content/drive')"
      ],
      "metadata": {
        "colab": {
          "base_uri": "https://localhost:8080/"
        },
        "id": "cJdzKLnxV3EC",
        "outputId": "cc6db299-d353-4c36-f5dd-42ed9525bacb"
      },
      "execution_count": null,
      "outputs": [
        {
          "output_type": "stream",
          "name": "stdout",
          "text": [
            "Mounted at /content/drive\n"
          ]
        }
      ]
    },
    {
      "cell_type": "code",
      "execution_count": null,
      "metadata": {
        "colab": {
          "base_uri": "https://localhost:8080/"
        },
        "id": "EbD2v1EOdwCk",
        "outputId": "c02d0312-d543-4bfa-c872-6a31dd66ee00"
      },
      "outputs": [
        {
          "output_type": "stream",
          "name": "stderr",
          "text": [
            "[nltk_data] Downloading package stopwords to /root/nltk_data...\n",
            "[nltk_data]   Unzipping corpora/stopwords.zip.\n",
            "[nltk_data] Downloading package punkt to /root/nltk_data...\n",
            "[nltk_data]   Unzipping tokenizers/punkt.zip.\n"
          ]
        },
        {
          "output_type": "execute_result",
          "data": {
            "text/plain": [
              "True"
            ]
          },
          "metadata": {},
          "execution_count": 3
        }
      ],
      "source": [
        "import pandas as pd\n",
        "import numpy as np\n",
        "import seaborn as sns\n",
        "import json\n",
        "import matplotlib.pyplot as plt\n",
        "\n",
        "from wordcloud import WordCloud\n",
        "import matplotlib.pyplot as plt\n",
        "from nltk.corpus import stopwords as sw\n",
        "import nltk\n",
        "from bs4 import BeautifulSoup\n",
        "\n",
        "from collections import Counter\n",
        "import matplotlib.pyplot as plt\n",
        "import nltk\n",
        "from nltk.tokenize import word_tokenize\n",
        "import string\n",
        "\n",
        "\n",
        "nltk.download('stopwords')\n",
        "nltk.download('punkt')"
      ]
    },
    {
      "cell_type": "code",
      "source": [
        "import os\n",
        "os.environ['KAGGLE_CONFIG_DIR']='/content/drive/MyDrive/AI_dataset/'"
      ],
      "metadata": {
        "id": "8Gs2SMeSeYTe"
      },
      "execution_count": null,
      "outputs": []
    },
    {
      "cell_type": "code",
      "source": [
        "!kaggle datasets download Cornell-University/arxiv"
      ],
      "metadata": {
        "colab": {
          "base_uri": "https://localhost:8080/"
        },
        "id": "WKEidOPBeXTk",
        "outputId": "4ded8b5b-bf91-455a-f06a-db758b9cbf2f"
      },
      "execution_count": null,
      "outputs": [
        {
          "output_type": "stream",
          "name": "stdout",
          "text": [
            "Downloading arxiv.zip to /content\n",
            "100% 1.18G/1.19G [00:15<00:00, 73.8MB/s]\n",
            "100% 1.19G/1.19G [00:15<00:00, 84.3MB/s]\n"
          ]
        }
      ]
    },
    {
      "cell_type": "code",
      "source": [
        "!unzip '/content/arxiv.zip'"
      ],
      "metadata": {
        "colab": {
          "base_uri": "https://localhost:8080/"
        },
        "id": "U-Ym2TTheRok",
        "outputId": "b3d7253c-1029-47d8-bfde-54c9ed9150c3"
      },
      "execution_count": null,
      "outputs": [
        {
          "output_type": "stream",
          "name": "stdout",
          "text": [
            "Archive:  /content/arxiv.zip\n",
            "  inflating: arxiv-metadata-oai-snapshot.json  \n"
          ]
        }
      ]
    },
    {
      "cell_type": "code",
      "source": [
        "DATASET_PATH = \"/content/arxiv-metadata-oai-snapshot.json\"\n",
        "\n",
        "# The number of papers on which the models will be trained and that also will be analyzed.\n",
        "# There are over 2 million papers in this dataset, I'll select a subset.\n",
        "NUM_PAPERS = 500000"
      ],
      "metadata": {
        "id": "CGRMBgSqYLdu"
      },
      "execution_count": null,
      "outputs": []
    },
    {
      "cell_type": "code",
      "source": [
        "def get_dataset_generator(path: str) -> Generator:\n",
        "    with open(path, \"r\") as fp:\n",
        "        for line in fp:\n",
        "            row = json.loads(line)\n",
        "            yield row\n",
        "\n",
        "\n",
        "dataset_generator = get_dataset_generator(\n",
        "    path=DATASET_PATH\n",
        ")\n",
        "print(type(dataset_generator))"
      ],
      "metadata": {
        "colab": {
          "base_uri": "https://localhost:8080/"
        },
        "id": "UGp_-3pAYdXM",
        "outputId": "69a637c5-42a7-4543-ce83-b87f9f49fd97"
      },
      "execution_count": null,
      "outputs": [
        {
          "output_type": "stream",
          "name": "stdout",
          "text": [
            "<class 'generator'>\n"
          ]
        }
      ]
    },
    {
      "cell_type": "code",
      "source": [
        "def create_dataframe(generator: Generator) -> pd.DataFrame:\n",
        "    # I'll use this column to filter out paper duplicates.\n",
        "    titles = []\n",
        "    authors = []\n",
        "\n",
        "    abstracts = []\n",
        "    categories = []\n",
        "    dates = []\n",
        "\n",
        "    for row in generator:\n",
        "        if len(abstracts) == NUM_PAPERS:\n",
        "            break\n",
        "\n",
        "        titles.append(row[\"title\"])\n",
        "        authors.append(row[\"authors\"])\n",
        "\n",
        "        dates.append(row[\"update_date\"])\n",
        "        abstracts.append(row[\"abstract\"])\n",
        "        categories.append(row[\"categories\"])\n",
        "\n",
        "    return pd.DataFrame.from_dict({\n",
        "        \"title\": titles,\n",
        "        \"authors\": authors,\n",
        "        \"date\": dates,\n",
        "        \"abstract\": abstracts,\n",
        "        \"categories\": categories\n",
        "    })\n",
        "\n",
        "\n",
        "dataset_df = create_dataframe(dataset_generator)\n",
        "dataset_df[\"date\"] = pd.to_datetime(dataset_df[\"date\"])"
      ],
      "metadata": {
        "id": "vWCFVbH3YbmV"
      },
      "execution_count": null,
      "outputs": []
    },
    {
      "cell_type": "code",
      "source": [
        "print(f\"Dataset Samples: {len(dataset_df):,}\")\n",
        "dataset_df.head()"
      ],
      "metadata": {
        "colab": {
          "base_uri": "https://localhost:8080/"
        },
        "id": "3KAxQILnYatB",
        "outputId": "5d0caa1c-fa22-44f7-e36d-665baa352629"
      },
      "execution_count": null,
      "outputs": [
        {
          "output_type": "stream",
          "name": "stdout",
          "text": [
            "Dataset Samples: 500,000\n"
          ]
        },
        {
          "output_type": "execute_result",
          "data": {
            "text/plain": [
              "                                               title  \\\n",
              "0  Calculation of prompt diphoton production cros...   \n",
              "1           Sparsity-certifying Graph Decompositions   \n",
              "2  The evolution of the Earth-Moon system based o...   \n",
              "3  A determinant of Stirling cycle numbers counts...   \n",
              "4  From dyadic $\\Lambda_{\\alpha}$ to $\\Lambda_{\\a...   \n",
              "\n",
              "                                             authors       date  \\\n",
              "0  C. Bal\\'azs, E. L. Berger, P. M. Nadolsky, C.-... 2008-11-26   \n",
              "1                    Ileana Streinu and Louis Theran 2008-12-13   \n",
              "2                                        Hongjun Pan 2008-01-13   \n",
              "3                                       David Callan 2007-05-23   \n",
              "4           Wael Abu-Shammala and Alberto Torchinsky 2013-10-15   \n",
              "\n",
              "                                            abstract       categories  \n",
              "0    A fully differential calculation in perturba...           hep-ph  \n",
              "1    We describe a new algorithm, the $(k,\\ell)$-...    math.CO cs.CG  \n",
              "2    The evolution of Earth-Moon system is descri...   physics.gen-ph  \n",
              "3    We show that a determinant of Stirling cycle...          math.CO  \n",
              "4    In this paper we show how to compute the $\\L...  math.CA math.FA  "
            ],
            "text/html": [
              "\n",
              "  <div id=\"df-c19ff25d-ad11-4ea3-a076-f49961c9fde5\" class=\"colab-df-container\">\n",
              "    <div>\n",
              "<style scoped>\n",
              "    .dataframe tbody tr th:only-of-type {\n",
              "        vertical-align: middle;\n",
              "    }\n",
              "\n",
              "    .dataframe tbody tr th {\n",
              "        vertical-align: top;\n",
              "    }\n",
              "\n",
              "    .dataframe thead th {\n",
              "        text-align: right;\n",
              "    }\n",
              "</style>\n",
              "<table border=\"1\" class=\"dataframe\">\n",
              "  <thead>\n",
              "    <tr style=\"text-align: right;\">\n",
              "      <th></th>\n",
              "      <th>title</th>\n",
              "      <th>authors</th>\n",
              "      <th>date</th>\n",
              "      <th>abstract</th>\n",
              "      <th>categories</th>\n",
              "    </tr>\n",
              "  </thead>\n",
              "  <tbody>\n",
              "    <tr>\n",
              "      <th>0</th>\n",
              "      <td>Calculation of prompt diphoton production cros...</td>\n",
              "      <td>C. Bal\\'azs, E. L. Berger, P. M. Nadolsky, C.-...</td>\n",
              "      <td>2008-11-26</td>\n",
              "      <td>A fully differential calculation in perturba...</td>\n",
              "      <td>hep-ph</td>\n",
              "    </tr>\n",
              "    <tr>\n",
              "      <th>1</th>\n",
              "      <td>Sparsity-certifying Graph Decompositions</td>\n",
              "      <td>Ileana Streinu and Louis Theran</td>\n",
              "      <td>2008-12-13</td>\n",
              "      <td>We describe a new algorithm, the $(k,\\ell)$-...</td>\n",
              "      <td>math.CO cs.CG</td>\n",
              "    </tr>\n",
              "    <tr>\n",
              "      <th>2</th>\n",
              "      <td>The evolution of the Earth-Moon system based o...</td>\n",
              "      <td>Hongjun Pan</td>\n",
              "      <td>2008-01-13</td>\n",
              "      <td>The evolution of Earth-Moon system is descri...</td>\n",
              "      <td>physics.gen-ph</td>\n",
              "    </tr>\n",
              "    <tr>\n",
              "      <th>3</th>\n",
              "      <td>A determinant of Stirling cycle numbers counts...</td>\n",
              "      <td>David Callan</td>\n",
              "      <td>2007-05-23</td>\n",
              "      <td>We show that a determinant of Stirling cycle...</td>\n",
              "      <td>math.CO</td>\n",
              "    </tr>\n",
              "    <tr>\n",
              "      <th>4</th>\n",
              "      <td>From dyadic $\\Lambda_{\\alpha}$ to $\\Lambda_{\\a...</td>\n",
              "      <td>Wael Abu-Shammala and Alberto Torchinsky</td>\n",
              "      <td>2013-10-15</td>\n",
              "      <td>In this paper we show how to compute the $\\L...</td>\n",
              "      <td>math.CA math.FA</td>\n",
              "    </tr>\n",
              "  </tbody>\n",
              "</table>\n",
              "</div>\n",
              "    <div class=\"colab-df-buttons\">\n",
              "\n",
              "  <div class=\"colab-df-container\">\n",
              "    <button class=\"colab-df-convert\" onclick=\"convertToInteractive('df-c19ff25d-ad11-4ea3-a076-f49961c9fde5')\"\n",
              "            title=\"Convert this dataframe to an interactive table.\"\n",
              "            style=\"display:none;\">\n",
              "\n",
              "  <svg xmlns=\"http://www.w3.org/2000/svg\" height=\"24px\" viewBox=\"0 -960 960 960\">\n",
              "    <path d=\"M120-120v-720h720v720H120Zm60-500h600v-160H180v160Zm220 220h160v-160H400v160Zm0 220h160v-160H400v160ZM180-400h160v-160H180v160Zm440 0h160v-160H620v160ZM180-180h160v-160H180v160Zm440 0h160v-160H620v160Z\"/>\n",
              "  </svg>\n",
              "    </button>\n",
              "\n",
              "  <style>\n",
              "    .colab-df-container {\n",
              "      display:flex;\n",
              "      gap: 12px;\n",
              "    }\n",
              "\n",
              "    .colab-df-convert {\n",
              "      background-color: #E8F0FE;\n",
              "      border: none;\n",
              "      border-radius: 50%;\n",
              "      cursor: pointer;\n",
              "      display: none;\n",
              "      fill: #1967D2;\n",
              "      height: 32px;\n",
              "      padding: 0 0 0 0;\n",
              "      width: 32px;\n",
              "    }\n",
              "\n",
              "    .colab-df-convert:hover {\n",
              "      background-color: #E2EBFA;\n",
              "      box-shadow: 0px 1px 2px rgba(60, 64, 67, 0.3), 0px 1px 3px 1px rgba(60, 64, 67, 0.15);\n",
              "      fill: #174EA6;\n",
              "    }\n",
              "\n",
              "    .colab-df-buttons div {\n",
              "      margin-bottom: 4px;\n",
              "    }\n",
              "\n",
              "    [theme=dark] .colab-df-convert {\n",
              "      background-color: #3B4455;\n",
              "      fill: #D2E3FC;\n",
              "    }\n",
              "\n",
              "    [theme=dark] .colab-df-convert:hover {\n",
              "      background-color: #434B5C;\n",
              "      box-shadow: 0px 1px 3px 1px rgba(0, 0, 0, 0.15);\n",
              "      filter: drop-shadow(0px 1px 2px rgba(0, 0, 0, 0.3));\n",
              "      fill: #FFFFFF;\n",
              "    }\n",
              "  </style>\n",
              "\n",
              "    <script>\n",
              "      const buttonEl =\n",
              "        document.querySelector('#df-c19ff25d-ad11-4ea3-a076-f49961c9fde5 button.colab-df-convert');\n",
              "      buttonEl.style.display =\n",
              "        google.colab.kernel.accessAllowed ? 'block' : 'none';\n",
              "\n",
              "      async function convertToInteractive(key) {\n",
              "        const element = document.querySelector('#df-c19ff25d-ad11-4ea3-a076-f49961c9fde5');\n",
              "        const dataTable =\n",
              "          await google.colab.kernel.invokeFunction('convertToInteractive',\n",
              "                                                    [key], {});\n",
              "        if (!dataTable) return;\n",
              "\n",
              "        const docLinkHtml = 'Like what you see? Visit the ' +\n",
              "          '<a target=\"_blank\" href=https://colab.research.google.com/notebooks/data_table.ipynb>data table notebook</a>'\n",
              "          + ' to learn more about interactive tables.';\n",
              "        element.innerHTML = '';\n",
              "        dataTable['output_type'] = 'display_data';\n",
              "        await google.colab.output.renderOutput(dataTable, element);\n",
              "        const docLink = document.createElement('div');\n",
              "        docLink.innerHTML = docLinkHtml;\n",
              "        element.appendChild(docLink);\n",
              "      }\n",
              "    </script>\n",
              "  </div>\n",
              "\n",
              "\n",
              "<div id=\"df-c4386267-0469-4270-b724-b1cdd27b1cff\">\n",
              "  <button class=\"colab-df-quickchart\" onclick=\"quickchart('df-c4386267-0469-4270-b724-b1cdd27b1cff')\"\n",
              "            title=\"Suggest charts.\"\n",
              "            style=\"display:none;\">\n",
              "\n",
              "<svg xmlns=\"http://www.w3.org/2000/svg\" height=\"24px\"viewBox=\"0 0 24 24\"\n",
              "     width=\"24px\">\n",
              "    <g>\n",
              "        <path d=\"M19 3H5c-1.1 0-2 .9-2 2v14c0 1.1.9 2 2 2h14c1.1 0 2-.9 2-2V5c0-1.1-.9-2-2-2zM9 17H7v-7h2v7zm4 0h-2V7h2v10zm4 0h-2v-4h2v4z\"/>\n",
              "    </g>\n",
              "</svg>\n",
              "  </button>\n",
              "\n",
              "<style>\n",
              "  .colab-df-quickchart {\n",
              "    background-color: #E8F0FE;\n",
              "    border: none;\n",
              "    border-radius: 50%;\n",
              "    cursor: pointer;\n",
              "    display: none;\n",
              "    fill: #1967D2;\n",
              "    height: 32px;\n",
              "    padding: 0 0 0 0;\n",
              "    width: 32px;\n",
              "  }\n",
              "\n",
              "  .colab-df-quickchart:hover {\n",
              "    background-color: #E2EBFA;\n",
              "    box-shadow: 0px 1px 2px rgba(60, 64, 67, 0.3), 0px 1px 3px 1px rgba(60, 64, 67, 0.15);\n",
              "    fill: #174EA6;\n",
              "  }\n",
              "\n",
              "  [theme=dark] .colab-df-quickchart {\n",
              "    background-color: #3B4455;\n",
              "    fill: #D2E3FC;\n",
              "  }\n",
              "\n",
              "  [theme=dark] .colab-df-quickchart:hover {\n",
              "    background-color: #434B5C;\n",
              "    box-shadow: 0px 1px 3px 1px rgba(0, 0, 0, 0.15);\n",
              "    filter: drop-shadow(0px 1px 2px rgba(0, 0, 0, 0.3));\n",
              "    fill: #FFFFFF;\n",
              "  }\n",
              "</style>\n",
              "\n",
              "  <script>\n",
              "    async function quickchart(key) {\n",
              "      const charts = await google.colab.kernel.invokeFunction(\n",
              "          'suggestCharts', [key], {});\n",
              "    }\n",
              "    (() => {\n",
              "      let quickchartButtonEl =\n",
              "        document.querySelector('#df-c4386267-0469-4270-b724-b1cdd27b1cff button');\n",
              "      quickchartButtonEl.style.display =\n",
              "        google.colab.kernel.accessAllowed ? 'block' : 'none';\n",
              "    })();\n",
              "  </script>\n",
              "</div>\n",
              "    </div>\n",
              "  </div>\n"
            ]
          },
          "metadata": {},
          "execution_count": 52
        }
      ]
    },
    {
      "cell_type": "code",
      "source": [
        "print(\"Missing values by column:\")\n",
        "dataset_df.isnull().sum()"
      ],
      "metadata": {
        "colab": {
          "base_uri": "https://localhost:8080/"
        },
        "id": "FBAsuiVmceiU",
        "outputId": "80fec0cf-e14e-4118-bd8c-e1657e810ee6"
      },
      "execution_count": null,
      "outputs": [
        {
          "output_type": "stream",
          "name": "stdout",
          "text": [
            "Missing values by column:\n"
          ]
        },
        {
          "output_type": "execute_result",
          "data": {
            "text/plain": [
              "title         0\n",
              "authors       0\n",
              "date          0\n",
              "abstract      0\n",
              "categories    0\n",
              "dtype: int64"
            ]
          },
          "metadata": {},
          "execution_count": 53
        }
      ]
    },
    {
      "cell_type": "code",
      "source": [
        "# I'll naively split the text by whitespace directly. It should be okay for an approximation.\n",
        "# I might've alternatively tokenized using SpaCy, for example, or a HuggingFace WordPiece Tokenizer, for that matter.\n",
        "dataset_df[\"abstract_len\"] = dataset_df[\"abstract\"].apply(lambda text: len(text.split()))\n",
        "dataset_df[\"abstract_len\"].hist()\n",
        "plt.title(\"Abstract size distribution\")\n",
        "plt.show()"
      ],
      "metadata": {
        "colab": {
          "base_uri": "https://localhost:8080/"
        },
        "id": "8Gf5QS9jeN_s",
        "outputId": "78f42dce-9b7c-48d1-8cfa-0a0d194580da"
      },
      "execution_count": null,
      "outputs": [
        {
          "output_type": "display_data",
          "data": {
            "text/plain": [
              "<Figure size 640x480 with 1 Axes>"
            ],
            "image/png": "[encoded data removed]"
          },
          "metadata": {}
        }
      ]
    },
    {
      "cell_type": "code",
      "source": [
        "# Splitting the string of space-separated categories into a list.\n",
        "dataset_df[\"categories\"] = dataset_df[\"categories\"].apply(\n",
        "    lambda text: tuple(text.split())\n",
        ")\n",
        "# Displaying the distribution of number of categories.\n",
        "dataset_df[\"num_categories\"] = dataset_df[\"categories\"].apply(\n",
        "    lambda cats: len(cats)\n",
        ")\n",
        "print(\"Number of categories per paper description:\")\n",
        "print(dataset_df[\"num_categories\"].describe())\n",
        "\n",
        "dataset_df[\"num_categories\"].hist()\n",
        "plt.title(\"Number of categories per paper\")\n",
        "plt.show()"
      ],
      "metadata": {
        "colab": {
          "base_uri": "https://localhost:8080/"
        },
        "id": "klewQjQ5eUiF",
        "outputId": "977f7192-753d-4b5a-821b-cc981995496d"
      },
      "execution_count": null,
      "outputs": [
        {
          "output_type": "stream",
          "name": "stdout",
          "text": [
            "Number of categories per paper description:\n",
            "count    500000.000000\n",
            "mean          1.638130\n",
            "std           0.870989\n",
            "min           1.000000\n",
            "25%           1.000000\n",
            "50%           1.000000\n",
            "75%           2.000000\n",
            "max          13.000000\n",
            "Name: num_categories, dtype: float64\n"
          ]
        },
        {
          "output_type": "display_data",
          "data": {
            "text/plain": [
              "<Figure size 640x480 with 1 Axes>"
            ],
            "image/png": "[encoded data removed]"
          },
          "metadata": {}
        }
      ]
    },
    {
      "cell_type": "code",
      "source": [
        "categories = dataset_df[\"categories\"].tolist()\n",
        "\n",
        "# Getting all unique categories by flattening the 'categories' column\n",
        "# and creating a set out of the resultant list.\n",
        "unique_categories = set([\n",
        "    cat\n",
        "    for nested_cats in categories\n",
        "    for cat in nested_cats\n",
        "])\n",
        "print(f\"Num. unique categories: {len(unique_categories)}\")"
      ],
      "metadata": {
        "colab": {
          "base_uri": "https://localhost:8080/"
        },
        "id": "__Kq5lJ7ed-8",
        "outputId": "8a94ad9a-8587-4ccc-b0b3-f61bd448d86d"
      },
      "execution_count": null,
      "outputs": [
        {
          "output_type": "stream",
          "name": "stdout",
          "text": [
            "Num. unique categories: 155\n"
          ]
        }
      ]
    },
    {
      "cell_type": "code",
      "source": [
        "print(f\"Earliest date: {dataset_df['date'].min()}\")\n",
        "print(f\"Latest date: {dataset_df['date'].max()}\")\n",
        "\n",
        "all_categories = dataset_df[\"categories\"].tolist()\n",
        "all_categories = [\n",
        "    cat\n",
        "    for nested_cats in all_categories\n",
        "    for cat in nested_cats\n",
        "]\n",
        "\n",
        "print(\n",
        "    \"Most frequently occurring category:\",\n",
        "    max(set(all_categories), key=all_categories.count)\n",
        ")\n",
        "print(\n",
        "    \"Least frequently occurring category:\",\n",
        "    min(set(all_categories), key=all_categories.count)\n",
        ")\n",
        "\n",
        "plt.hist(all_categories)\n",
        "plt.tick_params(\n",
        "    axis='x',\n",
        "    which='both',\n",
        "    bottom=False,\n",
        "    top=False,\n",
        "    labelbottom=False\n",
        ")\n",
        "plt.tick_params(\n",
        "    axis='y',\n",
        "    which='both',\n",
        "    bottom=False,\n",
        "    top=False,\n",
        "    labelbottom=False\n",
        ")\n",
        "plt.title(\"Class frequency distribution\")\n",
        "plt.xlabel(\"Class\")\n",
        "plt.ylabel(\"Frequency\")\n",
        "plt.show()"
      ],
      "metadata": {
        "colab": {
          "base_uri": "https://localhost:8080/"
        },
        "id": "Y_kAW9MVfwN-",
        "outputId": "745727f0-1409-4738-f204-99f90ab4ac20"
      },
      "execution_count": null,
      "outputs": [
        {
          "output_type": "stream",
          "name": "stdout",
          "text": [
            "Earliest date: 2007-05-23 00:00:00\n",
            "Latest date: 2023-08-25 00:00:00\n",
            "Most frequently occurring category: hep-ph\n",
            "Least frequently occurring category: econ.GN\n"
          ]
        },
        {
          "output_type": "display_data",
          "data": {
            "text/plain": [
              "<Figure size 640x480 with 1 Axes>"
            ],
            "image/png": "[encoded data removed]"
          },
          "metadata": {}
        }
      ]
    },
    {
      "cell_type": "code",
      "source": [
        "print(f\"Num. papers: {len(dataset_df)}\")\n",
        "dataset_df = dataset_df[~dataset_df[[\"title\", \"authors\"]].duplicated()]\n",
        "print(f\"Num. unique papers: {len(dataset_df)}\")"
      ],
      "metadata": {
        "colab": {
          "base_uri": "https://localhost:8080/"
        },
        "id": "q3Ob7p-Qf1hx",
        "outputId": "4cf59028-afe0-4d6c-91ef-db0ca351a1e3"
      },
      "execution_count": null,
      "outputs": [
        {
          "output_type": "stream",
          "name": "stdout",
          "text": [
            "Num. papers: 500000\n",
            "Num. unique papers: 499821\n"
          ]
        }
      ]
    },
    {
      "cell_type": "code",
      "source": [],
      "metadata": {
        "id": "sd1SR4t9gHqy"
      },
      "execution_count": null,
      "outputs": []
    }
  ]
}